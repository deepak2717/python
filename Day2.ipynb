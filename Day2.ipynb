{
 "cells": [
  {
   "cell_type": "markdown",
   "id": "a0e58f4b",
   "metadata": {},
   "source": [
    "control statements\n",
    "1.sequential\n",
    "2.conditional\n",
    " a) branching (selection) if: else: elif: switch:\n",
    " b) looping  (iteration) for: while:\n",
    "3.unconditional break continue"
   ]
  },
  {
   "cell_type": "code",
   "execution_count": null,
   "id": "e80039da",
   "metadata": {},
   "outputs": [],
   "source": [
    "var1,var2=100,200\n",
    "\"\"\"\n",
    "if var1 > var2: # relational operators > < >= <= == !=\n",
    "    print(f\"{var1} is greater\")\n",
    "else:\n",
    "    print(f\"{var2} is greater\")\n",
    "\"\"\"\n",
    "print(\"Greater is \",max(var1,var2))"
   ]
  },
  {
   "cell_type": "code",
   "execution_count": null,
   "id": "a073548a",
   "metadata": {},
   "outputs": [],
   "source": [
    "var1,var2,var3=100,200,300\n",
    "\n",
    "if var1 > var2 and var1 > var3: # logical operator and or not\n",
    "    print(f\"{var1} is greater\")\n",
    "elif var2 > var1 and var2 > var3:\n",
    "    print(f\"{var2} is greater\")\n",
    "else:\n",
    "    print(f\"{var3} is greater\")\n",
    "\n",
    "print(\"Greater is \",max(var1,var2,var3))"
   ]
  },
  {
   "cell_type": "code",
   "execution_count": null,
   "id": "1486e013",
   "metadata": {},
   "outputs": [],
   "source": [
    "var1,var2,var3=100,200,300\n",
    "\n",
    "if var1 > var2 > var3: # operators can be cascaded in python!\n",
    "    print(f\"{var1} is greater\")\n",
    "elif var2 > var1 > var3:\n",
    "    print(f\"{var2} is greater\")\n",
    "else:\n",
    "    print(f\"{var3} is greater\")"
   ]
  },
  {
   "cell_type": "code",
   "execution_count": null,
   "id": "edbf388d",
   "metadata": {},
   "outputs": [],
   "source": [
    "# any(collection) all(collection)\n",
    "if 20>10 and 30>10 and 500>100: # Cstyle of writing code\n",
    "    print(\"and operator requires all conditions to be True\")\n",
    "if all([20>10,30>10,500>100]):\n",
    "    print(\"all() requires all conditions to be True\")\n",
    "if any([50<20,5>10,500>800,(),{8},[],0,0.0,False,None]): # Python style of using conditions\n",
    "    print(\"any() requires atleast one condition within the collection to be True\")"
   ]
  },
  {
   "cell_type": "code",
   "execution_count": null,
   "id": "fb272e70",
   "metadata": {},
   "outputs": [],
   "source": [
    "var1,var2,var3=100,200,300\n",
    "\n",
    "if var1 > var2:\n",
    "    if var1 > var3:\n",
    "        print(f\"{var1} is greater\")\n",
    "    else:\n",
    "        print(f\"{var3} is greater\")\n",
    "else:\n",
    "    if var2 > var3:\n",
    "        print(f\"{var2} is greater\")\n",
    "    else:\n",
    "        print(f\"{var3} is greater\")"
   ]
  },
  {
   "cell_type": "code",
   "execution_count": null,
   "id": "acae20af",
   "metadata": {},
   "outputs": [],
   "source": [
    "# identity operator is / is not is used to check the data type of objects\n",
    "# membership operators in / not in is used to check the contents of the objects\n",
    "\n",
    "employees=[\"raju\",\"arjun\"]\n",
    "\n",
    "if type(employees) is list:\n",
    "    print(\"You are using list for sure!\")\n",
    "if type(employees) is not tuple:\n",
    "    print(\"You are not using tuple for sure!\")"
   ]
  },
  {
   "cell_type": "code",
   "execution_count": null,
   "id": "15060e7d",
   "metadata": {},
   "outputs": [],
   "source": [
    "python_versions=[3.6,3.7,3.8,3.9,3.10]\n",
    "\n",
    "my_version=float(input(\"Enter your version of python : \"))\n",
    "\n",
    "if my_version in python_versions:\n",
    "    print(f\"f-strings are supported in your version\")\n",
    "else:\n",
    "    print(f\"your version support str.format() only!\")"
   ]
  },
  {
   "cell_type": "code",
   "execution_count": null,
   "id": "1bab0024",
   "metadata": {},
   "outputs": [],
   "source": [
    "admin_users=[\"root\",\"admin\",\"adminstrator\",\"devadatta\"]\n",
    "\n",
    "user=input(\"Enter your user name : \")\n",
    "\n",
    "if user in admin_users:\n",
    "    print(f\"call the functions and commands related to admin...\")\n",
    "else:\n",
    "    print(f\"you have guest privileges only!\")"
   ]
  },
  {
   "cell_type": "code",
   "execution_count": null,
   "id": "f9024aa4",
   "metadata": {},
   "outputs": [],
   "source": [
    "import math\n",
    "fact=1\n",
    "num=int(input(\"Enter your number : \"))\n",
    "\"\"\"\n",
    "while num > 0:\n",
    "    fact*=num\n",
    "    num-=1\n",
    "print(f\"factorial is {fact}\")\n",
    "\"\"\"\n",
    "print(f\"factorial is {math.factorial(num)}\")"
   ]
  },
  {
   "cell_type": "code",
   "execution_count": null,
   "id": "c89bbc97",
   "metadata": {},
   "outputs": [],
   "source": [
    "list1=[10,20,30,40,50]\n",
    "\n",
    "for item in list1:\n",
    "    print(item,end=\" \")\n",
    "print(\" \")\n",
    "\n",
    "# range() is a buitin generator function in python\n",
    "# generator function will generate values only if required and these values are not stored unlike collections\n",
    "# generators are light weight / fast because values are computed only when required unlike collection\n",
    "# in python a lot a builtin functions return generators for performance!\n",
    "\n",
    "for item in range(6): # 0 1 2 3 4 5\n",
    "    print(item,end=\" \")\n",
    "print(\" \")\n",
    "for item in range(1,11): # 1..10\n",
    "    print(item,end=\" \")\n",
    "print(\" \")\n",
    "for item in range(1,11,2): # 1 3 5 7 9\n",
    "    print(item,end=\" \")\n",
    "print(\" \")\n",
    "for item in range(10,51,10): # 10 20 30 40 50\n",
    "    print(item,end=\" \")\n",
    "print(\" \")"
   ]
  },
  {
   "cell_type": "code",
   "execution_count": null,
   "id": "48eb0be6",
   "metadata": {},
   "outputs": [],
   "source": [
    "list1=[10,20,30,40,50]\n",
    "\n",
    "ref=iter(range(10,51,10))\n",
    "print(next(ref))\n",
    "print(next(ref))\n",
    "print(next(ref))"
   ]
  },
  {
   "cell_type": "code",
   "execution_count": null,
   "id": "06120ac4",
   "metadata": {},
   "outputs": [],
   "source": [
    "list1=[10,20,30,40,50]\n",
    "\n",
    "count=0\n",
    "for item in list1:\n",
    "    print(f\"Index is {count} value is {item}\")\n",
    "    count+=1\n",
    "print(\" \")\n",
    "\n",
    "for item in range(len(list1)): # 0 1 2 3 4  # C style of writing code in python!\n",
    "    print(f\"Index is {item} value is {list1[item]}\")\n",
    "\n",
    "print(\" \")\n",
    "\n",
    "# enumerate(collection) returns a tuple (index,value) within the collection\n",
    "for index,value in enumerate(list1): # pythonic way is to use enumerate()\n",
    "    print(f\"Index is {index} value is {value}\")"
   ]
  },
  {
   "cell_type": "code",
   "execution_count": null,
   "id": "2d639c17",
   "metadata": {},
   "outputs": [],
   "source": [
    "list1=[[10,20,30],[40,50,60],[70,80,90]]\n",
    "\n",
    "print(list1)\n",
    "print(\"List of Lists : \")\n",
    "\n",
    "for rows in list1:\n",
    "    for cols in rows:\n",
    "        print(cols,end=\" \")\n",
    "    print(\" \")\n",
    "    \n",
    "print(\"Using enumerate to get indexes : \")\n",
    "for i,rows in enumerate(list1):\n",
    "    for j,cols in enumerate(rows):\n",
    "        print(f\"list1[{i}][{j}]={cols}\",end=\" \")\n",
    "    print(\" \")"
   ]
  },
  {
   "cell_type": "code",
   "execution_count": null,
   "id": "10a0c8ae",
   "metadata": {},
   "outputs": [],
   "source": [
    "# comprehensions offer simplified syntax to create collections based on existing collections\n",
    "# list comprehensions / set comprehensions / dictionary comprehensions \n",
    "# Note: There is no tuple comprehension, it becomes a generator!!! \n",
    "\"\"\"\n",
    "list1=[]\n",
    "for item in range(11):\n",
    "    list1.append(item*item)\n",
    "\"\"\"\n",
    "list1=[item for item in range(11)]\n",
    "print(list1)\n",
    "list1=[0 for item in range(11)]\n",
    "print(list1)\n",
    "list1=[item*item for item in range(11)]\n",
    "print(list1)"
   ]
  },
  {
   "cell_type": "code",
   "execution_count": null,
   "id": "ffebff8e",
   "metadata": {},
   "outputs": [],
   "source": [
    "colors=['ReD','GREEn','bLuE']\n",
    "\n",
    "# list comprehension to convert all strings into lower_case\n",
    "colors_lower=[every_color.lower() for every_color in colors]\n",
    "\n",
    "my_col=input(\"Enter your color :\")\n",
    "\n",
    "if my_col.lower() in colors_lower:\n",
    "    print(\"you choose RGB\")\n",
    "else:\n",
    "    print(\"Please select different color\")"
   ]
  },
  {
   "cell_type": "code",
   "execution_count": null,
   "id": "8cf120ed",
   "metadata": {},
   "outputs": [],
   "source": [
    "# conditional comprehensions\n",
    "even_numbers=[nums for nums in range(1,21) if nums%2==0]\n",
    "\"\"\"\n",
    "for nums in range(1,21):\n",
    "    if nums%2==0:\n",
    "        even_numbers.append(nums)\n",
    "\"\"\"\n",
    "print(even_numbers)\n",
    "\n",
    "# set comperehension\n",
    "#even_numbers={nums for nums in range(1,21) if nums%2==0} # use {} to create set comprehension\n",
    "even_numbers=set(even_numbers) # using set ctor you can create set comprehension\n",
    "print(even_numbers)"
   ]
  },
  {
   "cell_type": "code",
   "execution_count": null,
   "id": "ecb5ba7b",
   "metadata": {},
   "outputs": [],
   "source": [
    "cricketers=['virat','rohit','bumrah','klrahul','ashwin']\n",
    "batsman=['virat','rohit','klrahul','gayle','pollard']\n",
    "\n",
    "# list comprehension\n",
    "dream11=[players for players in cricketers if players in batsman ]\n",
    "print(dream11)\n",
    "\n",
    "# set comprehension\n",
    "#dream11={players for players in cricketers if players in batsman}\n",
    "cricketers=set(cricketers)\n",
    "batsman=set(batsman)\n",
    "print(cricketers.intersection(batsman))"
   ]
  },
  {
   "cell_type": "code",
   "execution_count": null,
   "id": "8d37fe0d",
   "metadata": {},
   "outputs": [],
   "source": [
    "even_numbers=(nums for nums in range(1,21) if nums%2==0)\n",
    "print(even_numbers)\n",
    "# There are 2 ways to access generator 1. for loop 2. next() where computations happen only when req\n",
    "for nums in even_numbers:\n",
    "    print(nums,end=\" \")\n",
    "print(\" \")\n",
    "\n",
    "print(sum(even_numbers))\n",
    "\n",
    "even_numbers=(nums for nums in range(1,21) if nums%2==0)\n",
    "print(next(even_numbers))\n",
    "\n",
    "ref=iter(even_numbers)\n",
    "print(next(ref))\n",
    "\n",
    "#print(next(ref))\n",
    "#print(next(ref))\n",
    "\n",
    "# Note: Every generator is an iterable but every iterable is not a generator\n",
    "# iterables are collections (list,tuple,set,dict....)\n",
    "# iterators are for / next() \n",
    "# generators are iterables # generator always remembers its state"
   ]
  },
  {
   "cell_type": "code",
   "execution_count": null,
   "id": "36759864",
   "metadata": {},
   "outputs": [],
   "source": [
    "even_numbers=(nums for nums in range(1,21) if nums%2==0)\n",
    "print(even_numbers)\n",
    "\n",
    "print(sum(list(even_numbers))) # Here generator has reached its end\n",
    "print(sum(list(even_numbers))) # Now generator will show 0 as it is consumed\n",
    "print(sum(even_numbers)) \n",
    "print(sum(even_numbers)) \n",
    "\n",
    "even_numbers=(nums for nums in range(1,21) if nums%2==0)\n",
    "print(sum(even_numbers))\n",
    "\n",
    "#for nums in even_numbers:\n",
    "#    print(nums,end=\" \")\n",
    "#print(\" \")"
   ]
  },
  {
   "cell_type": "code",
   "execution_count": null,
   "id": "5db576d6",
   "metadata": {},
   "outputs": [],
   "source": [
    "cricketers=[\"sachin\",\"dhoni\",\"rohit\",\"gayle\",\"virat\"]\n",
    "jersey=[10,7,45,333,18]\n",
    "\n",
    "# dictionary comprehensions\n",
    "dream_11={cricketers[items]:jersey[items] for items in range(len(cricketers))}\n",
    "print(dream_11)\n",
    "\n",
    "# zip(collection1,collection2) \n",
    "# which can act as an alternative for dictionary comprehensions by passing it to dict ctor\n",
    "# zip(c1,c2,c3,c4) can also help you to create a list of tuples with multiple records!\n",
    "\n",
    "dream_11=dict(zip(cricketers,jersey))\n",
    "print(dream_11)"
   ]
  },
  {
   "cell_type": "code",
   "execution_count": null,
   "id": "83846b1d",
   "metadata": {},
   "outputs": [],
   "source": [
    "computer_names=[\"server-1\",\"laptop-1\",\"desktop-1\"]\n",
    "ip_address=[\"192.168.10.1\",\"8.8.8.8\",\"172.16.0.1\"]\n",
    "regions=[\"north-virginia\",\"ohio\",\"mumbai\"]\n",
    "# Here zip creates a list(c1,c2,c3) of tuples\n",
    "print(list(zip(computer_names,ip_address,regions)))"
   ]
  },
  {
   "cell_type": "code",
   "execution_count": null,
   "id": "f0f0f0e7",
   "metadata": {},
   "outputs": [],
   "source": [
    "restaurants=[\n",
    "                {\"name\":\"prithvi\",\"address\":\"kothrud\"},\n",
    "                {\"name\":\"abhishek veg\",\"address\":\"kothrud\"},\n",
    "                {\"name\":\"barbeque nation\",\"address\":\"deccan\"},\n",
    "                {\"name\":\"good luck\",\"address\":\"deccan\"},\n",
    "                {\"name\":\"nawab asia\",\"address\":\"baner\"}        \n",
    "            ]\n",
    "your_location=input(\"Enter your location :\")\n",
    "\n",
    "resto_nearby=[resto[\"name\"] for resto in restaurants if resto[\"address\"] == your_location]\n",
    "\n",
    "if any(resto_nearby):\n",
    "    print(resto_nearby)\n",
    "else:\n",
    "    print(\"Please try a different location!\")"
   ]
  },
  {
   "cell_type": "code",
   "execution_count": null,
   "id": "3dc54462",
   "metadata": {},
   "outputs": [],
   "source": [
    "restaurants={\n",
    "                \"kothrud\":[\"prithvi\",\"abhishek veg\"],\n",
    "                \"deccan\":(\"barbeque nation\",\"good luck\"),\n",
    "                \"baner\":{\"nawab asia\"}        \n",
    "            }\n",
    "your_location=input(\"Enter your location :\")\n",
    "\n",
    "if your_location in restaurants.keys():\n",
    "    print(f\"{restaurants[your_location]}\")\n",
    "else:\n",
    "    print(\"No restaurants nearby your location!!!\")"
   ]
  },
  {
   "cell_type": "code",
   "execution_count": null,
   "id": "c7390ddd",
   "metadata": {},
   "outputs": [],
   "source": [
    "# By default every function in python returns None\n",
    "def function():\n",
    "    print(\"function called\")\n",
    "    \n",
    "#ref=function()\n",
    "#print(ref)\n",
    "#print(function())\n",
    "function()"
   ]
  },
  {
   "cell_type": "code",
   "execution_count": null,
   "id": "950d20e2",
   "metadata": {},
   "outputs": [],
   "source": [
    "# function taking 2 arugments and returning a single value\n",
    "def add(value_1,value_2):\n",
    "    return value_1+value_2\n",
    "\n",
    "print(add(100,200))\n",
    "print(add(\"sachin\",\"sehwag\"))\n",
    "print(add(10+5j,2-3j))"
   ]
  },
  {
   "cell_type": "code",
   "execution_count": null,
   "id": "8dc8d35f",
   "metadata": {},
   "outputs": [],
   "source": [
    "# default arguments are when not all arguments needs to be passed during fun call\n",
    "# only trailing arguments can be defaulted\n",
    "def add(value_1,value_2=0):\n",
    "    return value_1+value_2\n",
    "\n",
    "print(add(100,200)) # unnamed arguments\n",
    "print(add(100))\n",
    "#print(add())"
   ]
  },
  {
   "cell_type": "code",
   "execution_count": null,
   "id": "c34d0fae",
   "metadata": {},
   "outputs": [],
   "source": [
    "def hollywood(movie=\"\",year=\"\",actor=\"\"):\n",
    "    print(f\"{movie} was released in {year} played by {actor}\")\n",
    "    \n",
    "hollywood(\"braveheart\",1990,\"melgibson\") # unnamed arguments\n",
    "hollywood(movie=\"beautiful mind\",year=2000,actor=\"russel crowe\") # keyword arguments / named args\n",
    "hollywood(year=2000,actor=\"russel crowe\",movie=\"gladitor\")\n",
    "hollywood(\"gladitor\",year=2000,actor=\"russel crowe\")\n",
    "# SyntaxError: positional argument follows keyword argument\n",
    "# hollywood(year=2000,actor=\"russel crowe\",\"gladitor\")\n",
    "# unnamed arguments and keyword arguments!\n",
    "# Note: unamed args must be followed by keyword args only vice versa will give syntax error!"
   ]
  },
  {
   "cell_type": "code",
   "execution_count": null,
   "id": "d97f8eb4",
   "metadata": {},
   "outputs": [],
   "source": [
    "# * becomes a tuple which can take variable number of arguments!\n",
    "def add(*arg):\n",
    "    #print(arg,type(arg))\n",
    "    total=0\n",
    "    for nums in arg:\n",
    "        total+=nums\n",
    "    return total\n",
    "\n",
    "print(add(1,2,3,4,5,6,7))\n",
    "print(add(1,2))\n",
    "print(add(1))\n"
   ]
  },
  {
   "cell_type": "code",
   "execution_count": null,
   "id": "3de6e606",
   "metadata": {},
   "outputs": [],
   "source": [
    "# Note: ** creates a dictionary which is hold keyword arguments or named arguments\n",
    "def add(**arg):\n",
    "    print(arg,type(arg))\n",
    "    total=0\n",
    "    for var,values in arg.items():\n",
    "        total+=values\n",
    "    return total\n",
    "\n",
    "print(add(value_1=10,value_2=20)) # keyword arguments!"
   ]
  },
  {
   "cell_type": "code",
   "execution_count": null,
   "id": "c13f6616",
   "metadata": {},
   "outputs": [],
   "source": [
    "# Note: first tuple and then a dictionary else syntax error!\n",
    "def add(*args,**kwargs):\n",
    "    #print(arg,type(arg))\n",
    "    total=0\n",
    "    for nums in args:\n",
    "        total+=nums\n",
    "    for var,values in kwargs.items():\n",
    "        total+=values   \n",
    "    return total\n",
    "\n",
    "print(add(1,2,3,4,5,6,7)) #unnamed args\n",
    "print(add(value_1=10,value_2=20)) # keyword args\n",
    "print(add(10,20,30,val1=40,val5=50)) # mix of both unnamed and keyword args"
   ]
  },
  {
   "cell_type": "code",
   "execution_count": null,
   "id": "3aa99f0f",
   "metadata": {},
   "outputs": [],
   "source": [
    "def function(val1,val2,val3):\n",
    "    print(val1,val2,val3)\n",
    "    \n",
    "list1=(10,20,30)\n",
    "\n",
    "function(*list1) # list1 = [10,20,30]\n",
    "# *list1 = 10,20,30"
   ]
  },
  {
   "cell_type": "code",
   "execution_count": null,
   "id": "bb3a0c72",
   "metadata": {},
   "outputs": [],
   "source": [
    "def add(*arg):     #(10,20,30)\n",
    "    #print(arg,type(arg))\n",
    "    total=0\n",
    "    for nums in arg:\n",
    "        total+=nums\n",
    "    return total\n",
    "\n",
    "def myfunction(*args):  # (10,20,30)\n",
    "    print(add(*args))   # 10,20,30\n",
    "\n",
    "myfunction(10,20,30)"
   ]
  },
  {
   "cell_type": "code",
   "execution_count": null,
   "id": "a6a27862",
   "metadata": {},
   "outputs": [],
   "source": [
    "# functions can be nested in python!\n",
    "\n",
    "def outer_function(name,runs):\n",
    "    print(\"outer function called \")\n",
    "    def inner_function(name):\n",
    "        print(f\"{name} is a cricketer\")\n",
    "        return \"india\"\n",
    "    country=inner_function(name)\n",
    "    print(f\"{name} plays for {country}\")\n",
    "    return 100*3\n",
    "        \n",
    "century=outer_function(\"sachin\",100)\n",
    "print(\"Total number of runs\",century)"
   ]
  },
  {
   "cell_type": "code",
   "execution_count": null,
   "id": "a1ee0988",
   "metadata": {},
   "outputs": [],
   "source": [
    "var=10\n",
    "\n",
    "def foo():\n",
    "    #global var\n",
    "    var=20\n",
    "    print(var)\n",
    "    def myfun():\n",
    "        #global var\n",
    "        nonlocal var\n",
    "        var=30\n",
    "        print(var)\n",
    "    myfun()\n",
    "    print(var)\n",
    "    \n",
    "def bar():\n",
    "    print(var)\n",
    "\n",
    "foo()\n",
    "bar()"
   ]
  },
  {
   "cell_type": "code",
   "execution_count": null,
   "id": "d9374ff0",
   "metadata": {},
   "outputs": [],
   "source": [
    "def add(value_1,value_2):\n",
    "    return value_1+value_2\n",
    "\n",
    "ref=add\n",
    "print(ref(100,200),add(100,200))\n",
    "\n",
    "def another_function():\n",
    "    return fun\n",
    "\n",
    "def fun():\n",
    "    print(\"its fun!\")\n",
    "\n",
    "def bar(ref_to_fun):#Here fun pointer ref_to_fun holds address of fun\n",
    "    print(\"bar called\")\n",
    "    ref_to_fun() # call to fun! using base address of fun\n",
    "\n",
    "def foo():\n",
    "    print(\"foo called\")\n",
    "    ref=bar(fun) # Here fun is base address \n",
    " \n",
    "#myref=another_function()\n",
    "#myref()\n",
    "#print(foo) # Name of the function is itself the base address of function\n",
    "#foo()"
   ]
  },
  {
   "cell_type": "code",
   "execution_count": null,
   "id": "a64540a6",
   "metadata": {},
   "outputs": [],
   "source": [
    "def validate_user(username,password):\n",
    "    print(f\"{username} has {password} password\")\n",
    "    \n",
    "def monkey_patching(f1,f2):\n",
    "    print(\"you are fooled by a monkey!\")\n",
    "\n",
    "validate_user(\"devadatta\",\"redhat\")\n",
    "validate_user=monkey_patching\n",
    "validate_user(\"arjun\",\"redh@t\")\n",
    "#print(dir(validate_user),type(validate_user))"
   ]
  },
  {
   "cell_type": "code",
   "execution_count": null,
   "id": "e1abbcd2",
   "metadata": {},
   "outputs": [],
   "source": [
    "def decorator(ref):\n",
    "    def newfunction():\n",
    "        print(\"This is a decorated function\")\n",
    "        ref()\n",
    "    return newfunction # returning address of inner function\n",
    " \n",
    "#@decorator\n",
    "def function():\n",
    "    print(\"This is a function\")\n",
    "    \n",
    "# Note: decorator will always take address of a function as argument\n",
    "# Note: decorator will always return address of some other function\n",
    "#function()\n",
    "function=decorator(function) # Name of the function is itself base address of the function\n",
    "function()"
   ]
  },
  {
   "cell_type": "code",
   "execution_count": null,
   "id": "2ae77df4",
   "metadata": {},
   "outputs": [],
   "source": [
    "def greet(ref):\n",
    "    def greet_user():\n",
    "        print(\"Have a good day\",end=\" \")\n",
    "        ref()\n",
    "    return greet_user\n",
    "\n",
    "@greet\n",
    "def username():\n",
    "    print(\"gaurav\")\n",
    "    \n",
    "#username=greet(username)\n",
    "username()"
   ]
  },
  {
   "cell_type": "code",
   "execution_count": null,
   "id": "18b3fdd2",
   "metadata": {},
   "outputs": [],
   "source": [
    "def divide_decorator(ref):\n",
    "    def custom_divide(a,b):\n",
    "        if b==0:\n",
    "            print(\"Cannot divide by zero\")\n",
    "            return\n",
    "        return ref(a,b)# call divide function indirectly through custom_divide\n",
    "    return custom_divide # return the address of custom_divide\n",
    "\n",
    "# using @properties you can generate callbacks\n",
    "@divide_decorator # protect direct call to divide function\n",
    "def divide(a,b):\n",
    "    return a/b\n",
    "\n",
    "print(divide(10,3))\n",
    "print(divide(10,0))"
   ]
  },
  {
   "cell_type": "code",
   "execution_count": null,
   "id": "1be1cef9",
   "metadata": {},
   "outputs": [],
   "source": [
    "user={\"username\":\"devadatta\",\"access_level\":\"admin\"}\n",
    "   \n",
    "def decorator(show_password):\n",
    "    def check_function():\n",
    "        if user[\"access_level\"]==\"admin\":\n",
    "            print(show_password())# call admin_password function\n",
    "        else:\n",
    "            print(\"You dont have enough privileges!\")\n",
    "    return check_function\n",
    "\n",
    "@decorator\n",
    "def admin_password():\n",
    "    return \"redhat\"\n",
    "\n",
    "#admin_password=decorator(admin_password)\n",
    "admin_password()"
   ]
  },
  {
   "cell_type": "code",
   "execution_count": null,
   "id": "ca2a9df0",
   "metadata": {},
   "outputs": [],
   "source": [
    "# use yield keyword within a function to convert the function into generator!\n",
    "def function():\n",
    "    for item in range(5):\n",
    "        yield item\n",
    "\n",
    "for values in function():\n",
    "    print(values,end=\" \")\n",
    "print(\" \")\n",
    "ref=function()\n",
    "print(next(ref))\n",
    "print(next(ref))\n",
    "print(next(ref))\n",
    "print(next(ref))\n",
    "print(next(ref))"
   ]
  },
  {
   "cell_type": "code",
   "execution_count": null,
   "id": "5b073f0b",
   "metadata": {},
   "outputs": [],
   "source": [
    "def my_even_numbers(nums):\n",
    "    \"\"\"\n",
    "    evens=[]\n",
    "    for items in range(nums):\n",
    "        if items%2==0:\n",
    "            evens.append(items)\n",
    "    print(evens)\n",
    "    \"\"\"\n",
    "    return (items for items in range(nums) if items%2==0)\n",
    "\n",
    "print(\" \")\n",
    "\n",
    "for nums in even_numbers(21):\n",
    "    print(nums,end=\" \")\n",
    "\n",
    "def even_numbers(nums):\n",
    "    for items in range(nums):\n",
    "        if items%2==0:\n",
    "            yield items\n",
    "            \n",
    "for nums in even_numbers(21):\n",
    "    print(nums,end=\" \")\n",
    "    \n",
    "ref=even_numbers(21)\n",
    "print(\" \")\n",
    "print(next(ref))\n",
    "print(next(ref))  "
   ]
  },
  {
   "cell_type": "code",
   "execution_count": null,
   "id": "92ef1b61",
   "metadata": {},
   "outputs": [],
   "source": [
    "# 0 1 1 2 3 5 ....\n",
    "\n",
    "def fibonacii(num):\n",
    "    f1=0\n",
    "    f2=1\n",
    "    list1=[]\n",
    "    for item in range(num):\n",
    "        list1.append(f1)\n",
    "        f1,f2=f2,f1+f2   \n",
    "    return list1\n",
    "\n",
    "\"\"\"\n",
    "def fibonacii(num):\n",
    "    f1=0\n",
    "    f2=1\n",
    "    for item in range(num):\n",
    "        yield f1\n",
    "        f1,f2=f2,f1+f2\n",
    "for nums in fibonacii(10):\n",
    "    print(nums,end=\" \")\n",
    "\"\"\"\n",
    "print(fibonacii(10))\n"
   ]
  },
  {
   "cell_type": "code",
   "execution_count": null,
   "id": "2a6f927c",
   "metadata": {},
   "outputs": [],
   "source": [
    "list1=[10,20,30,40,50]\n",
    "mystring=\"vinsys\"\n",
    "\n",
    "ref=iter(list1)\n",
    "print(next(ref))\n",
    "print(next(ref))\n",
    "print(next(ref))\n",
    "\n",
    "myref=iter(mystring)\n",
    "print(next(myref))\n",
    "print(next(myref))\n",
    "print(next(myref))\n",
    "print(next(myref))\n",
    "print(next(myref))\n",
    "print(next(myref))"
   ]
  },
  {
   "cell_type": "code",
   "execution_count": 26,
   "id": "710ec35e",
   "metadata": {},
   "outputs": [
    {
     "name": "stdout",
     "output_type": "stream",
     "text": [
      "foo called\n",
      "foo called\n",
      "3000\n",
      "30\n"
     ]
    }
   ],
   "source": [
    "# lambdas are anonymous functions (functions without any name)\n",
    "\n",
    "def foo():\n",
    "    print(\"Foo called\")\n",
    "    \n",
    "(lambda:print(\"foo called\"))()\n",
    "myref=lambda:print(\"foo called\")\n",
    "myref()\n",
    "\n",
    "def add(x,y):\n",
    "    return x+y\n",
    "ref=lambda x,y:x+y  # stored lambda\n",
    "print(ref(1000,2000))\n",
    "print((lambda x,y:x+y)(10,20)) # directly call lambda without storing in any reference"
   ]
  },
  {
   "cell_type": "code",
   "execution_count": 32,
   "id": "7bfab471",
   "metadata": {},
   "outputs": [
    {
     "name": "stdout",
     "output_type": "stream",
     "text": [
      "270\n",
      "170\n",
      "320\n"
     ]
    }
   ],
   "source": [
    "def add(*args):\n",
    "    total=0\n",
    "    for nums in args:\n",
    "        total+=nums\n",
    "    return total\n",
    "\n",
    "# One possible use case to use lambdas \n",
    "# lambda inside a dictionary as a anonymous function.\n",
    "\n",
    "menu={\n",
    "    \"findsum\":lambda args:sum(args)\n",
    "    #\"findsum\":add(args)\n",
    "    }\n",
    "students=[\n",
    "            {\"name\":\"arjun\",\"marks\":(90,80,100)},\n",
    "            {\"name\":\"shivani\",\"marks\":(90,80)},\n",
    "            {\"name\":\"gautam\",\"marks\":(80,80,80,80)}\n",
    "         ]\n",
    "for participants in students:\n",
    "    print(menu[\"findsum\"](participants[\"marks\"]))"
   ]
  },
  {
   "cell_type": "code",
   "execution_count": null,
   "id": "119625b8",
   "metadata": {},
   "outputs": [],
   "source": []
  }
 ],
 "metadata": {
  "kernelspec": {
   "display_name": "Python 3 (ipykernel)",
   "language": "python",
   "name": "python3"
  },
  "language_info": {
   "codemirror_mode": {
    "name": "ipython",
    "version": 3
   },
   "file_extension": ".py",
   "mimetype": "text/x-python",
   "name": "python",
   "nbconvert_exporter": "python",
   "pygments_lexer": "ipython3",
   "version": "3.9.7"
  }
 },
 "nbformat": 4,
 "nbformat_minor": 5
}
