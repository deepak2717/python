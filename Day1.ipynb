{
 "cells": [
  {
   "cell_type": "code",
   "execution_count": null,
   "id": "a334f32f",
   "metadata": {},
   "outputs": [],
   "source": [
    "# Here var is a reference which can hold only addresses\n",
    "# And 10 is an object of int class\n",
    "# int object / float object / bool object / complex object / string object / None type object \n",
    "# all the above objects are immutable \n",
    "var=10\n",
    "print(var,type(var),id(var))  # type is a function in python which tells the type of object!\n",
    "# id() gives the base address of the object that var is holding\n",
    "# The content of the object gets printed because reference gets automatically dereferenced!\n",
    "# In python everything is runtime, there is no compile time\n",
    "# because everything is an object which is created at runtime\n",
    "# There are no builtin data types in python, you only have userdefined types i.e. objects!\n",
    "# Everything is an object in python. Functions are also objects!\n",
    "print(type(type),type(id))\n",
    "var+=100 # var=var+100 # 10+100 == (110)\n",
    "print(var,type(var),id(var))\n",
    "\n",
    "newvar=var # Both references are holding the address of the same memory location\n",
    "var=3.14567\n",
    "print(var,id(var),type(var)) # There is no double in python, you only have float class\n",
    "# Here 10 object is garbage collected, There are no references to that memory location!\n",
    "print(newvar,type(newvar),id(newvar))\n",
    "\n",
    "var=\"v\"\n",
    "print(var,id(var),type(var)) # There is no char in python, you only have str class\n",
    "\n",
    "var=10+5j\n",
    "print(var,id(var),type(var)) # There is complex class\n",
    "\n",
    "var=True   # True False \n",
    "print(var,id(var),type(var)) \n",
    "\n",
    "var=None\n",
    "print(var,id(var),type(var)) # Not Defined!"
   ]
  },
  {
   "cell_type": "code",
   "execution_count": null,
   "id": "067c0a9b",
   "metadata": {},
   "outputs": [],
   "source": [
    "name=\"devadatta\"\n",
    "emp_id=1242\n",
    "salary=99.1234\n",
    "#print(\"name is\",name)\n",
    "#print(\"empid is \",emp_id)\n",
    "# There are 3 different ways to do formatting in python\n",
    "\n",
    "# 1. C-style formatting uses format specifiers like %d %f %s \n",
    "print(\"name is %s\\nemployee id is %d\\nsalary is %10.3f\"%(name,emp_id,salary))\n",
    "\n",
    "# 2. str.format() uses placeholders {} \n",
    "print(\"name is {0}\\nemployee id is {1}\\nsalary is {2} {2} {2} {2}\\n\".format(name,emp_id,salary))\n",
    "\n",
    "# 3. In python 3.6 or higher f-string \n",
    "print(f\"name is {name}\\nemployee id is {emp_id}\\nsalary is {salary:{10}.{5}}\\n\") \n",
    "# In f-string use value:{width}.{precision}"
   ]
  },
  {
   "cell_type": "code",
   "execution_count": null,
   "id": "93f758cf",
   "metadata": {},
   "outputs": [],
   "source": [
    "name=input(\"Enter your name\") \n",
    "# input function takes user input and creates a object of str class\n",
    "print(f\"You have entered {name} {type(name)}\")"
   ]
  },
  {
   "cell_type": "code",
   "execution_count": null,
   "id": "115dd4bd",
   "metadata": {},
   "outputs": [],
   "source": [
    "var1=eval(input(\"Enter first number : \"))\n",
    "var2=input(\"Enter second number : \")\n",
    "var2=eval(var2)\n",
    "print(f\"Addition of {type(var1)} and {type(var2)} is {type(var1+var2)}\")\n",
    "print(f\"Addition of {var1} and {var2} is {(var1+var2)}\")"
   ]
  },
  {
   "cell_type": "code",
   "execution_count": null,
   "id": "39348b16",
   "metadata": {},
   "outputs": [],
   "source": [
    "# every int can be converted to str but every str cannot be converted to int\n",
    "var=1000\n",
    "var=str(var)\n",
    "print(type(var))\n",
    "ip=\"192.168.10.1\"\n",
    "# ip=int(ip) # ValueError"
   ]
  },
  {
   "cell_type": "code",
   "execution_count": null,
   "id": "3ba32520",
   "metadata": {},
   "outputs": [],
   "source": [
    "list1=[10,20,30,10,10,10]\n",
    "print(list1)\n",
    "list1=list(set(list1)) # conversions are used to convert any object to any other object\n",
    "print(list1) # conversions are your ctors, ctors are used to convert any object to any other object!"
   ]
  },
  {
   "cell_type": "code",
   "execution_count": null,
   "id": "b7e5d239",
   "metadata": {},
   "outputs": [],
   "source": [
    "# generate your pay slip\n",
    "# take bs as input from user\n",
    "# use conversion functions int() float() str() eval()\n",
    "# operators % / //\n",
    "# 20% BS = HRA and 40%BS = DA and GS=PF+PT+HRA+DA+BS NS=GS-Deductions\n",
    "# Assume any value for PF & PT\n",
    "# print using formatting use f-string str.format() and C-style formatting!"
   ]
  },
  {
   "cell_type": "code",
   "execution_count": null,
   "id": "7023bd07",
   "metadata": {},
   "outputs": [],
   "source": [
    "# Guidelines to follow when you write code\n",
    "# 1. use snake_case to name references and function_names use PEP 8 guideline\n",
    "   #for(emp_id=1;emp_id<no_of_employees;++emp_id)\n",
    "   #show_employee_details() display_vehicle_details() \n",
    "   #area_circle(int) area_square(int,int) area_rectangle(float,float)\n",
    "# 2. write one line of code and do atleast 300 lines of documentation!\n",
    "  # if you make changes to code you also have to change doc string\n",
    "\n",
    "\"\"\"\n",
    "    doc string multi line comment\n",
    "\"\"\"\n",
    "# 3. be consistent # PEP 257 for documentation\n",
    "# () in C is replaced with : in python\n",
    "# {} in C is replace with indent (4 spaces) and outdent "
   ]
  },
  {
   "cell_type": "code",
   "execution_count": null,
   "id": "d9a874f6",
   "metadata": {},
   "outputs": [],
   "source": [
    "print('single quotes\\n \\'can \\' you enclose\\n ') # \\n \\r \\t \\b \\\"  \\\" \n",
    "print(\"single quotes 'can ' you enclose\")\n",
    "\n",
    "print(\"\"\"\n",
    "        within triple quotes\n",
    "        you can enclose any 'single quotes' and\n",
    "        \"double quotes\"\n",
    "\"\"\")\n",
    "print('''\n",
    "        within triple quotes\n",
    "        you can enclose any 'single quotes' and\n",
    "        \"double quotes\"\n",
    "''')"
   ]
  },
  {
   "cell_type": "code",
   "execution_count": null,
   "id": "7d8a44f4",
   "metadata": {},
   "outputs": [],
   "source": [
    "mystring=\"vinsys\"\n",
    "print(dir(mystring)) # returns list of member functions beloning to object class str\n",
    "#print(help(mystring.isascii)) # get help on a particular function \n",
    "#print(help(str))"
   ]
  },
  {
   "cell_type": "code",
   "execution_count": null,
   "id": "00c399a7",
   "metadata": {},
   "outputs": [],
   "source": [
    "import math # step 1 import module and then use dir() to list the functions and help()\n",
    "print(help(math.factorial))"
   ]
  },
  {
   "cell_type": "code",
   "execution_count": null,
   "id": "3b828a24",
   "metadata": {},
   "outputs": [],
   "source": [
    "# object of class str is immutable \n",
    "mystring=\"PythoN is beautiful\"\n",
    "\"\"\"\n",
    "print(mystring[0]) # starts with 0 by default from left side\n",
    "print(mystring[-1]) # negative indexes work in python from right side \n",
    "print(mystring[-3]) # higher index to lower index will work\n",
    "print(mystring[0:6])  # [start : nexttolast : stepcount]\n",
    "print(mystring[7:9]) # get substring from existing string\n",
    "print(mystring[0::2])\n",
    "print(mystring[::-1]) # efficiency is measured in time complexity and space complexity\n",
    "print(mystring[-10:])\n",
    "\"\"\"\n",
    "print(mystring.islower())\n",
    "print(mystring.isupper())\n",
    "print(mystring.isdigit())\n",
    "print(mystring.isascii())\n",
    "print(mystring.isalpha())\n",
    "print(mystring.startswith(\"python\"))\n",
    "print(mystring.endswith(\"ul\"))\n",
    "print(id(mystring))\n",
    "print(id(mystring.upper()))\n",
    "print(mystring.title())\n",
    "print(mystring.capitalize())\n",
    "print(mystring.swapcase())\n",
    "mystring.upper()  # changes will not be reflected on actual object \n",
    "# All functions on str class will create a new string object @ new mem location\n",
    "print(mystring)"
   ]
  },
  {
   "cell_type": "code",
   "execution_count": null,
   "id": "fb6c5b89",
   "metadata": {},
   "outputs": [],
   "source": [
    "mystring=\"devadatta@gmail.com\"\n",
    "print(mystring.center(100))\n",
    "print(mystring.ljust(10))\n",
    "print(mystring.rjust(100))\n",
    "mylist=mystring.split('@') # returns list a elements\n",
    "print(\"username\",mylist[0])\n",
    "print(\"domain name\",mylist[1])"
   ]
  },
  {
   "cell_type": "code",
   "execution_count": null,
   "id": "21a65f0f",
   "metadata": {},
   "outputs": [],
   "source": [
    "mylist=[\"devadatta\",\"herekar\",\"vinsys\",\"india\"]\n",
    "print(\",\".join(mylist)) # token.join(collection)"
   ]
  },
  {
   "cell_type": "code",
   "execution_count": null,
   "id": "64e44bd7",
   "metadata": {},
   "outputs": [],
   "source": [
    "mystring=\"                      python is python              \"\n",
    "mystring=mystring.strip()\n",
    "print(mystring.rstrip(\"python\")) # default strip will strip whitespaces\n",
    "print(mystring.lstrip(\"python\"))\n",
    "print(mystring.strip(\"python\"))\n",
    "print(mystring)"
   ]
  },
  {
   "cell_type": "code",
   "execution_count": null,
   "id": "2cac317e",
   "metadata": {},
   "outputs": [],
   "source": [
    "price=\"Rs 3,459.50/-\"\n",
    "newprice=price.strip(\"Rs\").strip('/-')\n",
    "print(newprice,type(newprice))\n",
    "newprice=newprice.replace(',','')\n",
    "print(newprice,type(float(newprice)))"
   ]
  },
  {
   "cell_type": "code",
   "execution_count": null,
   "id": "1a5d6068",
   "metadata": {},
   "outputs": [],
   "source": [
    "mystring=\"python is beautiful and python is easy\"\n",
    "print(mystring.find('ansible')) # find returns -1 if substring is absent\n",
    "print(mystring.find('python',1))\n",
    "#print(mystring.index('ansible')) # index throws valueError if substring is not present else return pos\n",
    "print(mystring.index('python',1))"
   ]
  },
  {
   "cell_type": "code",
   "execution_count": null,
   "id": "04760ac3",
   "metadata": {},
   "outputs": [],
   "source": [
    "print(dir(str))"
   ]
  },
  {
   "cell_type": "code",
   "execution_count": null,
   "id": "16216a08",
   "metadata": {},
   "outputs": [],
   "source": [
    "# collections list [], tuple (), set {}, dict{key:value}\n",
    "# What is a collection?\n",
    "# Collection is a temporary Database which is generated programatically\n",
    "print(dir(list))"
   ]
  },
  {
   "cell_type": "code",
   "execution_count": null,
   "id": "f0f728b5",
   "metadata": {},
   "outputs": [],
   "source": [
    "# list is hetergenous collection of mutable elements\n",
    "players=[\"sachin\",\"sehwag\",\"virat\",\"rohit\",\"bumrah\"]\n",
    "print(players,type(players),id(players))\n",
    "players.sort()\n",
    "print(players,id(players))\n",
    "players.reverse()\n",
    "print(players,id(players))\n",
    "players.sort(reverse=True) # reverse is a keyword argument to sort()\n",
    "print(players,id(players))\n",
    "print(\"First player is \",players[0])\n",
    "print(\"Last player is \",players[-1])\n",
    "print(\"Every next player is \",players[::2])\n",
    "print(\"Create a new list from existing list \",players[1:4])\n",
    "print(\"reversing players list \",players[::-1])\n",
    "\n",
    "westindies=[\"pollard\",\"roach\",\"pooran\"]\n",
    "#players.extend(westindies) # extend will add elements of one list in another list\n",
    "players.append(westindies) # add one list into another list # becomes a 2D array (list of lists)\n",
    "print(players)\n",
    "print(\"Westindies team from players database is \",players[5])\n",
    "print(\"Last player from Westindies team from players database is \",players[5][2])\n"
   ]
  },
  {
   "cell_type": "code",
   "execution_count": null,
   "id": "0cd634c8",
   "metadata": {},
   "outputs": [],
   "source": [
    "players=[\"sachin\",\"sehwag\",\"virat\",\"sachin\",\"sachin\"]\n",
    "players.insert(1,\"gayle\") # insert will insert at a particular position\n",
    "players.insert(3,\"pollard\")\n",
    "players.append(\"venkatesh\")\n",
    "print(players)\n",
    "print(players.pop()) # to remove the last element use pop()\n",
    "print(players)\n",
    "print(players.pop(1)) # use index position to pop at a particular place\n",
    "print(players)\n",
    "players.remove(\"pollard\") #remove returns None whereas pop returns poped element\n",
    "print(players)\n",
    "print(\"position of sachin is \",players.index(\"sachin\"))\n",
    "print(\"next position of sachin is \",players.index(\"sachin\",1))\n",
    "print(\"No of times sachin has occured \",players.count(\"sachin\"))\n",
    "print(\"Total number of records \",players.__len__(),len(players))\n",
    "newplayers=[\"ricky\",\"shane\",\"gilly\"]\n",
    "print(players.__mul__(5),players*5)"
   ]
  },
  {
   "cell_type": "code",
   "execution_count": null,
   "id": "1df13b4e",
   "metadata": {},
   "outputs": [],
   "source": [
    "newplayers=[\"ricky\",\"shane\",\"gilly\"]\n",
    "#dream11=newplayers # shallow copy will use same memory location\n",
    "dream11=newplayers.copy() # deep copy i.e. new memory location gets created and contents are copied\n",
    "dream11.append(\"wasim\")\n",
    "dream11.append(\"shohab\")\n",
    "newplayers.clear()\n",
    "print(dream11,id(dream11))\n",
    "print(newplayers,id(newplayers))"
   ]
  },
  {
   "cell_type": "code",
   "execution_count": null,
   "id": "aa933f3b",
   "metadata": {},
   "outputs": [],
   "source": [
    "# tuple is hetergenous collection of immutable elements (readonly database)\n",
    "players=(\"sachin\",\"sehwag\",\"virat\",\"rohit\",\"bumrah\")\n",
    "print(dir(players))\n",
    "print(\"total number of players\",len(players))\n",
    "print(\"sachin has occured : \",players.count(\"sachin\"))\n",
    "print(\"position of bumrah is : \",players.index(\"bumrah\"))\n",
    "dream11=players # only shallow copy is allowed on tuple there is no deep copy()\n",
    "print(dream11)\n",
    "print(\"Third player is \",players[2])\n",
    "print(players[::-1])\n",
    "# players[2]=\"klrahul\" # TypeError: 'tuple' object does not support item assignment\n",
    "# del players[0] # TypeError: 'tuple' object doesn't support item deletion\n",
    "print(players) "
   ]
  },
  {
   "cell_type": "code",
   "execution_count": null,
   "id": "86d2747c",
   "metadata": {},
   "outputs": [],
   "source": [
    "nse=(\"accenture\",\"21-02-2022\",999.54,1000)\n",
    "print(nse)\n",
    "print(\"Buying shares  :\",nse[3])\n",
    "company,date,price,shares=nse # multiple variable assingments \n",
    "print(\"Todays date is \",date,nse[1])"
   ]
  },
  {
   "cell_type": "code",
   "execution_count": null,
   "id": "7da9dfff",
   "metadata": {},
   "outputs": [],
   "source": [
    "var1,var2,var3=10,20,30\n",
    "print(var1,var2,var3)"
   ]
  },
  {
   "cell_type": "code",
   "execution_count": null,
   "id": "1f1386e7",
   "metadata": {},
   "outputs": [],
   "source": [
    "nse=[\n",
    "      (\"accenture\",\"21-02-2022\",999.54,1000),\n",
    "      (\"hdfc\",\"1-02-2022\",1000,50),\n",
    "      (\"sun pharma\",\"31-01-2022\",56.54,10),\n",
    "      (\"olectra\",\"3-02-2022\",99.54,5000),\n",
    "      (\"ibm\",\"20-02-2022\",500,400)\n",
    "    ]\n",
    "\n",
    "for records in nse: # for loops are used to unpack the database\n",
    "    print(type(records),type(nse))\n",
    "    for every_element in records:\n",
    "        print(type(every_element),end=\" \")\n",
    "    \n",
    "#print(\"First record from database\", nse[0])\n",
    "#nse.append(\"capgemini\")\n",
    "#nse[0][0]=\"vodofone\"\n",
    "#print(nse)\n",
    "#print(\"Last record from database\", nse[-1])\n",
    "#print(\"Price of IBM is \",nse[-1][2])\n",
    "#print(dir(nse))"
   ]
  },
  {
   "cell_type": "code",
   "execution_count": null,
   "id": "55d90ee6",
   "metadata": {},
   "outputs": [],
   "source": [
    "x=10\n",
    "print(type(x)) # int\n",
    "x=(10) # object of int class and not a tuple !!!!\n",
    "print(type(x)) \n",
    "x=(10,20) # tuple with 2 elements\n",
    "print(type(x))\n",
    "x=(10,) # tuple with 1 element of type int\n",
    "print(type(x))\n",
    "x=10,20 # Note using () is optional for tuple but , is mandatory!!!!\n",
    "print(type(x))\n",
    "x={} # empty dictionary\n",
    "print(type(x))\n",
    "x={10} # set\n",
    "print(type(x))\n",
    "x={\"sachin\":10} # dict\n",
    "print(type(x))"
   ]
  },
  {
   "cell_type": "code",
   "execution_count": null,
   "id": "913af495",
   "metadata": {},
   "outputs": [],
   "source": [
    "# set is unordered heteregenous collection of unique mutable collection\n",
    "# but the heteregeous elements that you add inside set must be immutable!\n",
    "# Note: you can add only immutable elements within set but set is mutable\n",
    "# int, float, str, complex, bool, None, tuple \n",
    "# you cannot add set, list, dict as these are mutable!\n",
    "\n",
    "myset={10,20,30,40,10+5j,True,4.5,\"sachin\",\"sachin\",\"sachin\",(1,2,3,4,5)}\n",
    "print(id(myset))\n",
    "myset.add(\"bumrah\")\n",
    "myset.add(\"natrajan\")\n",
    "myset.add(\"rohit\")\n",
    "print(myset,type(myset),id(myset))\n",
    "print(dir(set))"
   ]
  },
  {
   "cell_type": "code",
   "execution_count": null,
   "id": "0be7994f",
   "metadata": {},
   "outputs": [],
   "source": [
    "players={\"sachin\",\"rohit\",\"virat\",\"sehwag\"}\n",
    "players.add(\"bumrah\")\n",
    "players.add(\"klrahul\")\n",
    "westindies={\"pollard\",\"gayle\",\"bravo\"}\n",
    "players.update(westindies) # dictionary\n",
    "print(players)\n",
    "players.remove(\"bravo\")\n",
    "#players.remove(\"shohaib\")  # keyerror\n",
    "players.discard(\"gayle\") \n",
    "players.discard(\"wasim\") # no error in case value is not present in database\n",
    "print(\"Poped player is \",players.pop())\n",
    "print(players)"
   ]
  },
  {
   "cell_type": "code",
   "execution_count": null,
   "id": "97cc023e",
   "metadata": {},
   "outputs": [],
   "source": [
    "players=[\"sachin\",\"rohit\",\"virat\",\"sehwag\",\"bumrah\",\"natrajan\",\"iyer\"]\n",
    "dream11=[\"sachin\",\"sehwag\",\"bumrah\",\"natrajan\",\"shane\",\"wasim\"]\n",
    "retired=[\"sachin\",\"sehwag\",\"srinath\"]\n",
    "bowlers=[\"shane\",\"mcgrath\",\"gilly\",\"hayden\",\"bumrah\"]\n",
    "\"\"\"\n",
    "common_players=[]\n",
    "for every_player in players:\n",
    "    if every_player in dream11:\n",
    "        common_players.append(every_player)        \n",
    "print(common_players)\n",
    "\"\"\"\n",
    "players=set(players)\n",
    "dream11=set(dream11)\n",
    "retired=set(retired)\n",
    "bowlers=set(bowlers)\n",
    "#print(players)\n",
    "#print(dream11)\n",
    "print(players.intersection(dream11).intersection(retired))\n",
    "all_players=players.union(dream11).union(retired).union(bowlers)\n",
    "print(all_players.issuperset(players))\n",
    "print(all_players.issubset(players))\n",
    "print(all_players.isdisjoint(players))\n",
    "print(players.difference(retired))\n",
    "print(players.symmetric_difference(retired))"
   ]
  },
  {
   "cell_type": "code",
   "execution_count": null,
   "id": "e99b9e15",
   "metadata": {},
   "outputs": [],
   "source": [
    "cricketers={}\n",
    "print(cricketers,type(cricketers))\n",
    "cricketers[\"sachin\"]=10\n",
    "cricketers[\"dhoni\"]=7\n",
    "cricketers[\"abd\"]=17\n",
    "cricketers[18]=\"virat\"\n",
    "print(cricketers)\n",
    "print(cricketers[\"sachin\"]) # put key in [] to get particular value from dictionary\n",
    "print(cricketers.get(\"sachin\")) \n",
    "print(cricketers.get(\"gayle\",\"Key is absent\")) \n",
    "# get returns None if key is not present! so use get over [] in dict\n",
    "#cricketers[18]=\"sehwag\" # if the key is present then no error value gets updated!\n",
    "cricketers.setdefault(18,\"sehwag\")\n",
    "cricketers.setdefault(99,\"sehwag\")\n",
    "print(cricketers)\n",
    "print(dir(dict))\n",
    "print(\"list of keys are : \",cricketers.keys())\n",
    "print(\"list of values are : \",cricketers.values())\n",
    "print(\"list of tuples with (keys:values) are : \",cricketers.items())\n",
    "\n",
    "print(\"Printing only keys from dictionary\")\n",
    "for jersey in cricketers:\n",
    "    print(jersey,end=\" \")\n",
    "\n",
    "print(\" \")\n",
    "\n",
    "print(\"Printing only values from dictionary\")\n",
    "for jersey in cricketers:\n",
    "    print(cricketers[jersey],end=\" \")\n",
    "    \n",
    "print(\" \")\n",
    "\n",
    "print(\"unpacking values from dictionary :\")\n",
    "for keys,values in cricketers.items():\n",
    "    print(f\"{keys}======={values}\")\n",
    "print(dir(dict))\n",
    "print(cricketers.pop(\"dhoni\"))\n",
    "print(cricketers)\n",
    "cricketers.popitem()\n",
    "print(cricketers)\n",
    "\n",
    "newplayers={\"shane\":23,\"murli\":800,\"gayle\":333}\n",
    "print(cricketers.update(newplayers))\n",
    "print(cricketers)"
   ]
  },
  {
   "cell_type": "code",
   "execution_count": null,
   "id": "9389ad5f",
   "metadata": {},
   "outputs": [],
   "source": [
    "jersey=[7,10,45,333]\n",
    "cricketers=dict.fromkeys(jersey) # fromkeys will create a dictionary based on some keys in list\n",
    "print(cricketers)\n",
    "cricketers[7]=\"dhoni\"\n",
    "cricketers[10]=\"sachin\"\n",
    "cricketers[45]=\"hitman\"\n",
    "cricketers[333]=\"universal boss\"\n",
    "print(cricketers)"
   ]
  },
  {
   "cell_type": "code",
   "execution_count": 7,
   "id": "a9560d37",
   "metadata": {},
   "outputs": [
    {
     "name": "stdout",
     "output_type": "stream",
     "text": [
      "company accenture todays prices are {'current': 1999, 'high': 2000, 'low': 1500}\n",
      "current has 1999\n",
      "high has 2000\n",
      "low has 1500\n",
      "company ibm todays prices are {'current': 800, 'high': 1000, 'low': 700}\n",
      "current has 800\n",
      "high has 1000\n",
      "low has 700\n",
      "company sun pharma todays prices are {'current': 1800, 'high': 2000, 'low': 1700}\n",
      "current has 1800\n",
      "high has 2000\n",
      "low has 1700\n"
     ]
    }
   ],
   "source": [
    "sensex={ \"accenture\":{\"current\": 1999,\"high\":2000,\"low\":1500},\n",
    "         \"ibm\": {\"current\":800,\"high\":1000,\"low\":700},\n",
    "         \"sun pharma\":{\"current\":1800,\"high\":2000,\"low\":1700}\n",
    "       }\n",
    "#print(\"Todays sensex for sun pharma\",sensex[\"sun pharma\"])\n",
    "#print(\"Todays high for sun pharma is \",sensex[\"sun pharma\"][\"high\"])\n",
    "\n",
    "for company,price in sensex.items():\n",
    "    print(f\"company {company} todays prices are {price}\")\n",
    "    for item,values in price.items():\n",
    "        print(f\"{item} has {values}\")"
   ]
  },
  {
   "cell_type": "code",
   "execution_count": null,
   "id": "bcc76741",
   "metadata": {},
   "outputs": [],
   "source": []
  }
 ],
 "metadata": {
  "kernelspec": {
   "display_name": "Python 3 (ipykernel)",
   "language": "python",
   "name": "python3"
  },
  "language_info": {
   "codemirror_mode": {
    "name": "ipython",
    "version": 3
   },
   "file_extension": ".py",
   "mimetype": "text/x-python",
   "name": "python",
   "nbconvert_exporter": "python",
   "pygments_lexer": "ipython3",
   "version": "3.9.7"
  }
 },
 "nbformat": 4,
 "nbformat_minor": 5
}
